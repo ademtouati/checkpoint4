{
 "cells": [
  {
   "cell_type": "code",
   "execution_count": 1,
   "id": "f1ba6e21",
   "metadata": {},
   "outputs": [
    {
     "name": "stdout",
     "output_type": "stream",
     "text": [
      "Give me D:100\n",
      "[18]\n"
     ]
    }
   ],
   "source": [
    "import math\n",
    "num=input(\"Give me D:\")\n",
    "num=num.split(',')\n",
    "list = []\n",
    "for D in num:\n",
    "    S=round(math.sqrt(2*50*int(D)/30))\n",
    "    list.append(S)\n",
    "print(list)"
   ]
  },
  {
   "cell_type": "code",
   "execution_count": null,
   "id": "e9558fab",
   "metadata": {},
   "outputs": [],
   "source": []
  }
 ],
 "metadata": {
  "kernelspec": {
   "display_name": "Python 3 (ipykernel)",
   "language": "python",
   "name": "python3"
  },
  "language_info": {
   "codemirror_mode": {
    "name": "ipython",
    "version": 3
   },
   "file_extension": ".py",
   "mimetype": "text/x-python",
   "name": "python",
   "nbconvert_exporter": "python",
   "pygments_lexer": "ipython3",
   "version": "3.9.12"
  }
 },
 "nbformat": 4,
 "nbformat_minor": 5
}
