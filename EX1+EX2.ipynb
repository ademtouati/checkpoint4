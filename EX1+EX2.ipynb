{
 "cells": [
  {
   "cell_type": "code",
   "execution_count": 1,
   "id": "91c31932",
   "metadata": {},
   "outputs": [
    {
     "name": "stdout",
     "output_type": "stream",
     "text": [
      "2000\n"
     ]
    }
   ],
   "source": [
    "def ICE_Cream(A, B, C):\n",
    "    if A > B and A > C:\n",
    "        print(A)\n",
    "    elif B > A and B > C:\n",
    "        print(B)\n",
    "    elif C > A and C > B:\n",
    "        print(C)\n",
    "    else :\n",
    "        print(\"all the numbers are the same\")\n",
    "ICE_Cream(2000, 1000, 500)"
   ]
  },
  {
   "cell_type": "code",
   "execution_count": 2,
   "id": "c74eeb54",
   "metadata": {},
   "outputs": [],
   "source": [
    "def calculation(a,b):\n",
    "    return(a+b,a-b)"
   ]
  },
  {
   "cell_type": "code",
   "execution_count": 3,
   "id": "17be9b14",
   "metadata": {},
   "outputs": [
    {
     "data": {
      "text/plain": [
       "(50, 30)"
      ]
     },
     "execution_count": 3,
     "metadata": {},
     "output_type": "execute_result"
    }
   ],
   "source": [
    "calculation(40,10)"
   ]
  },
  {
   "cell_type": "code",
   "execution_count": null,
   "id": "a5bcd0b7",
   "metadata": {},
   "outputs": [],
   "source": []
  }
 ],
 "metadata": {
  "kernelspec": {
   "display_name": "Python 3 (ipykernel)",
   "language": "python",
   "name": "python3"
  },
  "language_info": {
   "codemirror_mode": {
    "name": "ipython",
    "version": 3
   },
   "file_extension": ".py",
   "mimetype": "text/x-python",
   "name": "python",
   "nbconvert_exporter": "python",
   "pygments_lexer": "ipython3",
   "version": "3.9.12"
  }
 },
 "nbformat": 4,
 "nbformat_minor": 5
}
