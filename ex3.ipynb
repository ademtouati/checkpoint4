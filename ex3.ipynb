{
 "cells": [
  {
   "cell_type": "code",
   "execution_count": 1,
   "id": "1753ce92",
   "metadata": {},
   "outputs": [
    {
     "name": "stdout",
     "output_type": "stream",
     "text": [
      "list index pair: [3, 7, 9, 1]\n",
      "list index impair: [6, 8, 2, 5]\n",
      "la somme de la liste paire est: 20\n",
      "le dev de la liste impaire est; 480\n"
     ]
    }
   ],
   "source": [
    "def sum (list):\n",
    "    \n",
    "    total=0\n",
    "    for i in list:\n",
    "        total+=i\n",
    "    return total\n",
    "\n",
    "def multiplyList(list):\n",
    " \n",
    "    result = 1\n",
    "    for x in list:\n",
    "        result = result * x\n",
    "    return result\n",
    "\n",
    "\n",
    "list = [3, 6, 7, 8, 9, 2, 1, 5]\n",
    "pair = []\n",
    "impair = []\n",
    "for i in range(0, len(list)):\n",
    "    if i % 2==0:\n",
    "        pair.append(list[i])\n",
    "    else :\n",
    "       impair.append(list[i])\n",
    "print(\"list index pair:\",pair)\n",
    "print(\"list index impair:\",impair)\n",
    "\n",
    "print(\"la somme de la liste paire est:\",sum(pair))\n",
    "print(\"le dev de la liste impaire est;\",multiplyList(impair)) "
   ]
  },
  {
   "cell_type": "code",
   "execution_count": null,
   "id": "51fda052",
   "metadata": {},
   "outputs": [],
   "source": []
  }
 ],
 "metadata": {
  "kernelspec": {
   "display_name": "Python 3 (ipykernel)",
   "language": "python",
   "name": "python3"
  },
  "language_info": {
   "codemirror_mode": {
    "name": "ipython",
    "version": 3
   },
   "file_extension": ".py",
   "mimetype": "text/x-python",
   "name": "python",
   "nbconvert_exporter": "python",
   "pygments_lexer": "ipython3",
   "version": "3.9.12"
  }
 },
 "nbformat": 4,
 "nbformat_minor": 5
}
