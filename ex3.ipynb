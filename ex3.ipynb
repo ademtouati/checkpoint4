{
 "cells": [
  {
   "cell_type": "code",
   "execution_count": 1,
   "id": "68fdea24",
   "metadata": {},
   "outputs": [
    {
     "name": "stdout",
     "output_type": "stream",
     "text": [
      "6\n"
     ]
    }
   ],
   "source": [
    "def sum (sum):\n",
    "    list = [0,2,4]\n",
    "    total=0\n",
    "    for i in list:\n",
    "        total+=i\n",
    "    return total\n",
    "print(sum(list))"
   ]
  },
  {
   "cell_type": "code",
   "execution_count": 160,
   "id": "66e7113d",
   "metadata": {},
   "outputs": [
    {
     "name": "stdout",
     "output_type": "stream",
     "text": [
      "80\n"
     ]
    }
   ],
   "source": [
    "def zzz(zzz):\n",
    "    mylist=[2,4,10]\n",
    "    res=1\n",
    "    for x in mylist:\n",
    "        res=res*x\n",
    "    return res\n",
    "print(zzz(mylist))"
   ]
  },
  {
   "cell_type": "code",
   "execution_count": 2,
   "id": "79ca1a07",
   "metadata": {},
   "outputs": [
    {
     "name": "stdout",
     "output_type": "stream",
     "text": [
      "list index pair: [3, 7, 9, 1]\n",
      "list index impair: [6, 8, 2, 5]\n"
     ]
    }
   ],
   "source": [
    "list = [3, 6, 7, 8, 9, 2, 1, 5]\n",
    "pair = []\n",
    "impair = []\n",
    "for i in range(0, len(list)):\n",
    "    if i % 2==0:\n",
    "        pair.append(list[i])\n",
    "    else :\n",
    "       impair.append(list[i])\n",
    "print(\"list index pair:\",pair)\n",
    "print(\"list index impair:\",impair)\n"
   ]
  },
  {
   "cell_type": "code",
   "execution_count": null,
   "id": "fd9a28b4",
   "metadata": {},
   "outputs": [],
   "source": []
  },
  {
   "cell_type": "code",
   "execution_count": null,
   "id": "23a87296",
   "metadata": {},
   "outputs": [],
   "source": []
  }
 ],
 "metadata": {
  "kernelspec": {
   "display_name": "Python 3 (ipykernel)",
   "language": "python",
   "name": "python3"
  },
  "language_info": {
   "codemirror_mode": {
    "name": "ipython",
    "version": 3
   },
   "file_extension": ".py",
   "mimetype": "text/x-python",
   "name": "python",
   "nbconvert_exporter": "python",
   "pygments_lexer": "ipython3",
   "version": "3.9.12"
  }
 },
 "nbformat": 4,
 "nbformat_minor": 5
}
